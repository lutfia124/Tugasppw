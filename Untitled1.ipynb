{
  "nbformat": 4,
  "nbformat_minor": 0,
  "metadata": {
    "colab": {
      "provenance": [],
      "include_colab_link": true
    },
    "kernelspec": {
      "name": "python3",
      "display_name": "Python 3"
    },
    "language_info": {
      "name": "python"
    }
  },
  "cells": [
    {
      "cell_type": "markdown",
      "metadata": {
        "id": "view-in-github",
        "colab_type": "text"
      },
      "source": [
        "<a href=\"https://colab.research.google.com/github/lutfia124/Tugasppw/blob/main/Untitled1.ipynb\" target=\"_parent\"><img src=\"https://colab.research.google.com/assets/colab-badge.svg\" alt=\"Open In Colab\"/></a>"
      ]
    },
    {
      "cell_type": "code",
      "execution_count": null,
      "metadata": {
        "colab": {
          "base_uri": "https://localhost:8080/"
        },
        "id": "58JBFpggcGOl",
        "outputId": "20dfef5c-687d-4c12-b156-1bc71619263b"
      },
      "outputs": [
        {
          "output_type": "stream",
          "name": "stdout",
          "text": [
            "Looking in indexes: https://pypi.org/simple, https://us-python.pkg.dev/colab-wheels/public/simple/\n",
            "Collecting jsonpickle\n",
            "  Downloading jsonpickle-2.2.0-py2.py3-none-any.whl (39 kB)\n",
            "Requirement already satisfied: importlib-metadata in /usr/local/lib/python3.7/dist-packages (from jsonpickle) (4.12.0)\n",
            "Requirement already satisfied: zipp>=0.5 in /usr/local/lib/python3.7/dist-packages (from importlib-metadata->jsonpickle) (3.8.1)\n",
            "Requirement already satisfied: typing-extensions>=3.6.4 in /usr/local/lib/python3.7/dist-packages (from importlib-metadata->jsonpickle) (4.1.1)\n",
            "Installing collected packages: jsonpickle\n",
            "Successfully installed jsonpickle-2.2.0\n"
          ]
        }
      ],
      "source": [
        "pip install jsonpickle"
      ]
    },
    {
      "cell_type": "code",
      "source": [
        "import tweepy,sys,jsonpickle\n",
        "\n",
        "consumer_key = \"UGf8GM98wnZKvdb8EVWSeBFmJ\"\n",
        "consumer_secret = \"oOjj9j4dRMja57g4ZeLTxQkvXm3zuh3WbkiV5iqq3UXYTR1OYz\"\n",
        "\n",
        "qry='ridwan kamil' #query yang akan di cari\n",
        "maxTweets =  500# Isi sembarang nilai sesuai kebutuhan anda\n",
        "tweetsPerQry = 100  # Jangan isi lebih dari 100, ndak boleh oleh Twitter\n",
        "fName='BMKG.json' # Nama File hasil Crawling\n",
        "\n",
        "auth = tweepy.AppAuthHandler(consumer_key,consumer_secret)\n",
        "api = tweepy.API(auth, wait_on_rate_limit=True,wait_on_rate_limit_notify=True)\n",
        "\n",
        "if (not api):\n",
        "    sys.exit('Autentikasi gagal, mohon cek \"Consumer Key\" & \"Consumer Secret\" Twitter anda')\n",
        "\n",
        "sinceId, max_id, tweetCount = None, -1, 0\n",
        "\n",
        "print(\"Mulai mengunduh maksimum {0} tweets\".format(maxTweets))\n",
        "with open(fName,'w') as f:\n",
        "    while tweetCount < maxTweets:\n",
        "        try:\n",
        "            if (max_id <= 0):\n",
        "                if (not sinceId):\n",
        "                    new_tweets=api.search(q=qry,count=tweetsPerQry)\n",
        "                else:\n",
        "                    new_tweets=api.search(q=qry,count=tweetsPerQry,since_id=sinceId)\n",
        "            else:\n",
        "                if (not sinceId):\n",
        "                    new_tweets=api.search(q=qry,count=tweetsPerQry,max_id=str(max_id - 1))\n",
        "                else:\n",
        "                    new_tweets=api.search(q=qry,count=tweetsPerQry,max_id=str(max_id - 1),since_id=sinceId)\n",
        "            if not new_tweets:\n",
        "                print('Tidak ada lagi Tweet ditemukan dengan Query=\"{0}\"'.format(qry));break\n",
        "            for tweet in new_tweets:\n",
        "                f.write(jsonpickle.encode(tweet._json,unpicklable=False)+'\\n')\n",
        "            tweetCount+=len(new_tweets)\n",
        "            sys.stdout.write(\"\\r\");sys.stdout.write(\"Jumlah Tweets telah tersimpan: %.0f\" %tweetCount);sys.stdout.flush()\n",
        "            max_id=new_tweets[-1].id\n",
        "        except tweepy.TweepError as e:\n",
        "            print(\"some error : \" + str(e));break # Aya error, keluar\n",
        "print ('\\nSelesai! {0} tweets tersimpan di \"{1}\"'.format(tweetCount,fName))"
      ],
      "metadata": {
        "colab": {
          "base_uri": "https://localhost:8080/"
        },
        "id": "Ki1aGsHicTLc",
        "outputId": "d7c87ee3-5ac1-4b4d-b533-a06862f1323e"
      },
      "execution_count": null,
      "outputs": [
        {
          "output_type": "stream",
          "name": "stdout",
          "text": [
            "Mulai mengunduh maksimum 500 tweets\n",
            "some error : [{'message': 'You currently have Essential access which includes access to Twitter API v2 endpoints only. If you need access to this endpoint, you’ll need to apply for Elevated access via the Developer Portal. You can learn more here: https://developer.twitter.com/en/docs/twitter-api/getting-started/about-twitter-api#v2-access-leve', 'code': 453}]\n",
            "\n",
            "Selesai! 0 tweets tersimpan di \"BMKG.json\"\n"
          ]
        }
      ]
    },
    {
      "cell_type": "markdown",
      "source": [
        "term frekuensi\n"
      ],
      "metadata": {
        "id": "tp6RblLjhJW8"
      }
    },
    {
      "cell_type": "code",
      "source": [
        "string = \"You currently have Essential access which includes access to Twitter API v2 endpoints only. If you need access to this endpoint, you’ll need to apply for Elevated access via the Developer Portal. You can learn more here\""
      ],
      "metadata": {
        "id": "yNVuOE0TgsgI"
      },
      "execution_count": 1,
      "outputs": []
    },
    {
      "cell_type": "code",
      "source": [
        "words = list(string.split(\" \"))\n",
        "print(words)"
      ],
      "metadata": {
        "id": "7-nMR0LihS4s",
        "outputId": "50768403-b1d3-4128-e856-87030fc21b7f",
        "colab": {
          "base_uri": "https://localhost:8080/"
        }
      },
      "execution_count": 2,
      "outputs": [
        {
          "output_type": "stream",
          "name": "stdout",
          "text": [
            "['You', 'currently', 'have', 'Essential', 'access', 'which', 'includes', 'access', 'to', 'Twitter', 'API', 'v2', 'endpoints', 'only.', 'If', 'you', 'need', 'access', 'to', 'this', 'endpoint,', 'you’ll', 'need', 'to', 'apply', 'for', 'Elevated', 'access', 'via', 'the', 'Developer', 'Portal.', 'You', 'can', 'learn', 'more', 'here']\n"
          ]
        }
      ]
    },
    {
      "cell_type": "code",
      "source": [
        "for word in words:\n",
        "    print(word)"
      ],
      "metadata": {
        "id": "sNI-O2SqhWhK",
        "outputId": "216ea14f-36da-45f1-f920-831e9b005554",
        "colab": {
          "base_uri": "https://localhost:8080/"
        }
      },
      "execution_count": 3,
      "outputs": [
        {
          "output_type": "stream",
          "name": "stdout",
          "text": [
            "You\n",
            "currently\n",
            "have\n",
            "Essential\n",
            "access\n",
            "which\n",
            "includes\n",
            "access\n",
            "to\n",
            "Twitter\n",
            "API\n",
            "v2\n",
            "endpoints\n",
            "only.\n",
            "If\n",
            "you\n",
            "need\n",
            "access\n",
            "to\n",
            "this\n",
            "endpoint,\n",
            "you’ll\n",
            "need\n",
            "to\n",
            "apply\n",
            "for\n",
            "Elevated\n",
            "access\n",
            "via\n",
            "the\n",
            "Developer\n",
            "Portal.\n",
            "You\n",
            "can\n",
            "learn\n",
            "more\n",
            "here\n"
          ]
        }
      ]
    },
    {
      "cell_type": "code",
      "source": [
        "word_count = {}\n",
        "for word in words:\n",
        "    if word not in word_count:\n",
        "        word_count[word] = 1\n",
        "    elif word in word_count:\n",
        "        word_count[word] += 1\n",
        "print(word_count)"
      ],
      "metadata": {
        "id": "UyBoclJkhZtZ",
        "outputId": "05eb5115-874e-436d-f750-1823c84c3f92",
        "colab": {
          "base_uri": "https://localhost:8080/"
        }
      },
      "execution_count": 4,
      "outputs": [
        {
          "output_type": "stream",
          "name": "stdout",
          "text": [
            "{'You': 2, 'currently': 1, 'have': 1, 'Essential': 1, 'access': 4, 'which': 1, 'includes': 1, 'to': 3, 'Twitter': 1, 'API': 1, 'v2': 1, 'endpoints': 1, 'only.': 1, 'If': 1, 'you': 1, 'need': 2, 'this': 1, 'endpoint,': 1, 'you’ll': 1, 'apply': 1, 'for': 1, 'Elevated': 1, 'via': 1, 'the': 1, 'Developer': 1, 'Portal.': 1, 'can': 1, 'learn': 1, 'more': 1, 'here': 1}\n"
          ]
        }
      ]
    },
    {
      "cell_type": "markdown",
      "source": [
        "matriks term frekuensi"
      ],
      "metadata": {
        "id": "1TRwLhLTjfFU"
      }
    },
    {
      "cell_type": "code",
      "source": [
        "import pandas as pd\n",
        "from sklearn.feature_extraction.text import CountVectorizer\n",
        "\n",
        "corpus = [\"You currently have Essential access which \"\n",
        "          \"includes access to Twitter API v2 endpoints only. \"\n",
        "          \"If you need access to this endpoint, you’ll need to apply for Elevated access via the Developer Portal.\"\n",
        "           \"You can learn more here\"] #list teks\n",
        "df = pd.DataFrame(data=corpus, columns=['sentences'])\n",
        "\n",
        "vectorizer = CountVectorizer(vocabulary=['you','currently','access','which','includes','API v2','endpoints','only', 'if', 'to', 'can', 'have', 'Essential', 'Twitter', 'Portal'], min_df=0,\n",
        "                             stop_words=frozenset(), token_pattern=r\"(?u)\\b\\w+\\b\")\n",
        "X = vectorizer.fit_transform(df['sentences'].values)\n",
        "result = pd.DataFrame(data=X.toarray(), columns=vectorizer.get_feature_names())\n",
        "print(result)"
      ],
      "metadata": {
        "id": "oEvtl9_Fjilv",
        "outputId": "c56681f8-1e94-4f97-c912-bd2cecfa57f0",
        "colab": {
          "base_uri": "https://localhost:8080/"
        }
      },
      "execution_count": 12,
      "outputs": [
        {
          "output_type": "stream",
          "name": "stdout",
          "text": [
            "   you  currently  access  which  includes  API v2  endpoints  only  if  to  \\\n",
            "0    4          1       4      1         1       0          1     1   1   3   \n",
            "\n",
            "   can  have  Essential  Twitter  Portal  \n",
            "0    1     1          0        0       0  \n"
          ]
        },
        {
          "output_type": "stream",
          "name": "stderr",
          "text": [
            "/usr/local/lib/python3.7/dist-packages/sklearn/feature_extraction/text.py:1323: UserWarning: Upper case characters found in vocabulary while 'lowercase' is True. These entries will not be matched with any documents\n",
            "  \"Upper case characters found in\"\n",
            "/usr/local/lib/python3.7/dist-packages/sklearn/utils/deprecation.py:87: FutureWarning: Function get_feature_names is deprecated; get_feature_names is deprecated in 1.0 and will be removed in 1.2. Please use get_feature_names_out instead.\n",
            "  warnings.warn(msg, category=FutureWarning)\n"
          ]
        }
      ]
    },
    {
      "cell_type": "markdown",
      "source": [
        "processing"
      ],
      "metadata": {
        "id": "3u0I2D5hhbKo"
      }
    },
    {
      "cell_type": "code",
      "source": [
        "string = \"You currently have Essential access which includes access to Twitter API v2 endpoints only. If you need access to this endpoint, you’ll need to apply for Elevated access via the Developer Portal. You can learn more here\""
      ],
      "metadata": {
        "id": "Fdfb9Wx8hdKf"
      },
      "execution_count": 7,
      "outputs": []
    },
    {
      "cell_type": "code",
      "source": [
        "import re\n",
        "# Replace all line breaks with a space\n",
        "string = re.sub('\\n', ' ', string)\n",
        "# Replace all special characters with a space\n",
        "string = re.sub('[^A-Za-z0-9]+', ' ', string)"
      ],
      "metadata": {
        "id": "esznpeQ_hvWJ"
      },
      "execution_count": 8,
      "outputs": []
    },
    {
      "cell_type": "code",
      "source": [
        "# Replace all single characters with a space\n",
        "string = re.sub(r'\\b[a-zA-Z]\\b', ' ', string)\n",
        "# Replace all double spaces with one space\n",
        "string = re.sub(' +', ' ', string)\n",
        "# Remove leading and trailing spaces\n",
        "string = string.strip()"
      ],
      "metadata": {
        "id": "Mc32cc6Ph7Zn"
      },
      "execution_count": 9,
      "outputs": []
    },
    {
      "cell_type": "code",
      "source": [
        "# Make all text lower case\n",
        "string = string.lower()"
      ],
      "metadata": {
        "id": "9rowmN66h8w2"
      },
      "execution_count": 10,
      "outputs": []
    },
    {
      "cell_type": "code",
      "source": [
        "words = list(string.split(\" \"))\n",
        "word_count = {}\n",
        "for word in words:\n",
        "    if word not in word_count:\n",
        "        word_count[word] = 1\n",
        "    elif word in word_count:\n",
        "        word_count[word] += 1\n",
        "print(word_count)"
      ],
      "metadata": {
        "id": "YEuG_bgFiC2K",
        "outputId": "216c1dfa-defd-4bd4-96b4-cd11b566ba8e",
        "colab": {
          "base_uri": "https://localhost:8080/"
        }
      },
      "execution_count": 11,
      "outputs": [
        {
          "output_type": "stream",
          "name": "stdout",
          "text": [
            "{'you': 4, 'currently': 1, 'have': 1, 'essential': 1, 'access': 4, 'which': 1, 'includes': 1, 'to': 3, 'twitter': 1, 'api': 1, 'v2': 1, 'endpoints': 1, 'only': 1, 'if': 1, 'need': 2, 'this': 1, 'endpoint': 1, 'll': 1, 'apply': 1, 'for': 1, 'elevated': 1, 'via': 1, 'the': 1, 'developer': 1, 'portal': 1, 'can': 1, 'learn': 1, 'more': 1, 'here': 1}\n"
          ]
        }
      ]
    }
  ]
}