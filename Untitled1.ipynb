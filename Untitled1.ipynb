{
  "nbformat": 4,
  "nbformat_minor": 0,
  "metadata": {
    "colab": {
      "provenance": [],
      "mount_file_id": "1pZvuu78RjvQZmvdyZsjD6krJpE0OKGyZ",
      "authorship_tag": "ABX9TyNYAU3EdOSD67QDQl4O5tfR",
      "include_colab_link": true
    },
    "kernelspec": {
      "name": "python3",
      "display_name": "Python 3"
    },
    "language_info": {
      "name": "python"
    }
  },
  "cells": [
    {
      "cell_type": "markdown",
      "metadata": {
        "id": "view-in-github",
        "colab_type": "text"
      },
      "source": [
        "<a href=\"https://colab.research.google.com/github/lutfia124/Tugasppw/blob/main/Untitled1.ipynb\" target=\"_parent\"><img src=\"https://colab.research.google.com/assets/colab-badge.svg\" alt=\"Open In Colab\"/></a>"
      ]
    },
    {
      "cell_type": "code",
      "execution_count": null,
      "metadata": {
        "colab": {
          "base_uri": "https://localhost:8080/"
        },
        "id": "58JBFpggcGOl",
        "outputId": "20dfef5c-687d-4c12-b156-1bc71619263b"
      },
      "outputs": [
        {
          "output_type": "stream",
          "name": "stdout",
          "text": [
            "Looking in indexes: https://pypi.org/simple, https://us-python.pkg.dev/colab-wheels/public/simple/\n",
            "Collecting jsonpickle\n",
            "  Downloading jsonpickle-2.2.0-py2.py3-none-any.whl (39 kB)\n",
            "Requirement already satisfied: importlib-metadata in /usr/local/lib/python3.7/dist-packages (from jsonpickle) (4.12.0)\n",
            "Requirement already satisfied: zipp>=0.5 in /usr/local/lib/python3.7/dist-packages (from importlib-metadata->jsonpickle) (3.8.1)\n",
            "Requirement already satisfied: typing-extensions>=3.6.4 in /usr/local/lib/python3.7/dist-packages (from importlib-metadata->jsonpickle) (4.1.1)\n",
            "Installing collected packages: jsonpickle\n",
            "Successfully installed jsonpickle-2.2.0\n"
          ]
        }
      ],
      "source": [
        "pip install jsonpickle"
      ]
    },
    {
      "cell_type": "code",
      "source": [
        "import tweepy,sys,jsonpickle\n",
        "\n",
        "consumer_key = \"UGf8GM98wnZKvdb8EVWSeBFmJ\"\n",
        "consumer_secret = \"oOjj9j4dRMja57g4ZeLTxQkvXm3zuh3WbkiV5iqq3UXYTR1OYz\"\n",
        "\n",
        "qry='ridwan kamil' #query yang akan di cari\n",
        "maxTweets =  500# Isi sembarang nilai sesuai kebutuhan anda\n",
        "tweetsPerQry = 100  # Jangan isi lebih dari 100, ndak boleh oleh Twitter\n",
        "fName='BMKG.json' # Nama File hasil Crawling\n",
        "\n",
        "auth = tweepy.AppAuthHandler(consumer_key,consumer_secret)\n",
        "api = tweepy.API(auth, wait_on_rate_limit=True,wait_on_rate_limit_notify=True)\n",
        "\n",
        "if (not api):\n",
        "    sys.exit('Autentikasi gagal, mohon cek \"Consumer Key\" & \"Consumer Secret\" Twitter anda')\n",
        "\n",
        "sinceId, max_id, tweetCount = None, -1, 0\n",
        "\n",
        "print(\"Mulai mengunduh maksimum {0} tweets\".format(maxTweets))\n",
        "with open(fName,'w') as f:\n",
        "    while tweetCount < maxTweets:\n",
        "        try:\n",
        "            if (max_id <= 0):\n",
        "                if (not sinceId):\n",
        "                    new_tweets=api.search(q=qry,count=tweetsPerQry)\n",
        "                else:\n",
        "                    new_tweets=api.search(q=qry,count=tweetsPerQry,since_id=sinceId)\n",
        "            else:\n",
        "                if (not sinceId):\n",
        "                    new_tweets=api.search(q=qry,count=tweetsPerQry,max_id=str(max_id - 1))\n",
        "                else:\n",
        "                    new_tweets=api.search(q=qry,count=tweetsPerQry,max_id=str(max_id - 1),since_id=sinceId)\n",
        "            if not new_tweets:\n",
        "                print('Tidak ada lagi Tweet ditemukan dengan Query=\"{0}\"'.format(qry));break\n",
        "            for tweet in new_tweets:\n",
        "                f.write(jsonpickle.encode(tweet._json,unpicklable=False)+'\\n')\n",
        "            tweetCount+=len(new_tweets)\n",
        "            sys.stdout.write(\"\\r\");sys.stdout.write(\"Jumlah Tweets telah tersimpan: %.0f\" %tweetCount);sys.stdout.flush()\n",
        "            max_id=new_tweets[-1].id\n",
        "        except tweepy.TweepError as e:\n",
        "            print(\"some error : \" + str(e));break # Aya error, keluar\n",
        "print ('\\nSelesai! {0} tweets tersimpan di \"{1}\"'.format(tweetCount,fName))"
      ],
      "metadata": {
        "colab": {
          "base_uri": "https://localhost:8080/"
        },
        "id": "Ki1aGsHicTLc",
        "outputId": "d7c87ee3-5ac1-4b4d-b533-a06862f1323e"
      },
      "execution_count": null,
      "outputs": [
        {
          "output_type": "stream",
          "name": "stdout",
          "text": [
            "Mulai mengunduh maksimum 500 tweets\n",
            "some error : [{'message': 'You currently have Essential access which includes access to Twitter API v2 endpoints only. If you need access to this endpoint, you’ll need to apply for Elevated access via the Developer Portal. You can learn more here: https://developer.twitter.com/en/docs/twitter-api/getting-started/about-twitter-api#v2-access-leve', 'code': 453}]\n",
            "\n",
            "Selesai! 0 tweets tersimpan di \"BMKG.json\"\n"
          ]
        }
      ]
    }
  ]
}